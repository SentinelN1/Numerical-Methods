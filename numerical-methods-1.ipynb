{
 "cells": [
  {
   "cell_type": "markdown",
   "metadata": {},
   "source": [
    "Лабораторная работа №1: Теория Погрешностей и Машинная Арифметика. \\\n",
    "Антонов Егор, БПМ-214, \\\n",
    "Вариант №1"
   ]
  },
  {
   "cell_type": "markdown",
   "metadata": {},
   "source": [
    "Задача 1.1.1. Дан ряд $$ \\sum^{\\infty}_{n=0}{\\frac{2}{n^2+5n+6}} $$\n",
    "Найти сумму ряда S аналитически. Вычистлить значения частичный сумм ряда $ S_N = \\sum_{n=0}^{N}{a_n} $ и найти выличину погрешности при заданных значениях $ N = 10, 10^2, 10^3, 10^4, 10^5 $."
   ]
  },
  {
   "cell_type": "markdown",
   "metadata": {},
   "source": [
    "1. Найти сумму ряда S аналитически как предел частичных сумм ряда.\n",
    "\n",
    "$$ \n",
    "S\n",
    " = \n",
    "\\sum^{\\infty}_{n=0}{a_n}\n",
    " = \n",
    "\\lim_{N \\to \\infty}{\\sum^{N}_{n=0}{a_n}}\n",
    "$$\n",
    "\n",
    "$$\n",
    "S_N\n",
    " = \n",
    "\\sum^{N}_{n=0}{a_n}\n",
    " = \n",
    "a_0 + a_1 + a_2 + \\dots + a_{N - 1} + a_{N}\n",
    "$$\n",
    "\n",
    "$$ \n",
    "\\frac{2}{n^2+5n+6}\n",
    " = \n",
    "\\frac{2}{(n + 2)(n + 3)}\n",
    " =\n",
    "\\frac{A}{n + 2} + \\frac{B}{n + 3}\n",
    " = \n",
    "$$\n",
    "\n",
    "$$\n",
    " = \n",
    "\\frac{A(n + 3) + B(n + 2)}{(n + 2)(n + 3)}\n",
    " = \n",
    "\\frac{A n + 3 A + B n + 2 B}{(n + 2)(n + 3)}\n",
    " = \n",
    "$$\n",
    "\n",
    "$$\n",
    "= \\frac{(A + B)n + (3 A + 2 B)}{(n + 2)(n + 3)}\n",
    " \\implies \n",
    "\\begin{cases}  \n",
    "A + B = 0 \\\\\n",
    "3 A + 2 B = 2\n",
    "\\end{cases}\n",
    " \\iff\n",
    "\\begin{cases}  \n",
    "A = 2 \\\\\n",
    "B = -2\n",
    "\\end{cases}\n",
    " \\implies\n",
    "$$\n",
    "\n",
    "$$\n",
    "\\frac{2}{n^2+5n+6}\n",
    " = \n",
    "\\frac{2}{n + 2} - \\frac{2}{n + 3}\n",
    " \\implies\n",
    "\\sum^{N}_{n=0}{\\frac{2}{n^2+5n+6}}\n",
    " = \n",
    "\\sum^{N}_{n=0}{\\frac{2}{n + 2} - \\frac{2}{n + 3}}\n",
    " = \n",
    "$$\n",
    "\n",
    "$$\n",
    " = \n",
    "\\frac{2}{2} - \\frac{2}{3} + \\frac{2}{3} - \\frac{2}{4} + \\dots + \\frac{2}{N + 1} - \\frac{2}{N + 2} + \\frac{2}{N + 2} - \\frac{2}{N + 3} = \n",
    "1 - \\frac{2}{N + 3}\n",
    "$$\n",
    "\n",
    "$$\n",
    "\\sum^{\\infty}_{n=0}{\\frac{2}{n^2+5n+6}}\n",
    " = \n",
    "\\lim_{N \\to \\infty}{\\sum^{N}_{n=0}{\\frac{2}{n^2+5n+6}}}\n",
    " = \n",
    "\\lim_{N \\to \\infty}{1 - \\frac{2}{N + 3}}\n",
    " = \n",
    "1\n",
    "$$"
   ]
  },
  {
   "cell_type": "markdown",
   "metadata": {},
   "source": [
    "Ответ: $ S = 1 $."
   ]
  },
  {
   "cell_type": "markdown",
   "metadata": {},
   "source": [
    "2. Используя функцию $ S_N = \\sum_{n=0}^{N}{a_n} $, вычислить значения частичных сумм."
   ]
  },
  {
   "cell_type": "markdown",
   "metadata": {},
   "source": [
    "| $ N $    | Значение частичной суммы ряда $ S_N $ | Величина абсолютной погрешности $ \\| S_N - S \\| $ | Количество верных цифр $ M $ |\n",
    "|----------|---------------------------------------|---------------------------------------------------|-----------------------------:|\n",
    "| $ 10   $ | $ 0.846153846153846                 $ |  $ 0.15384615384615397                          $ | $ 1                        $ |\n",
    "| $ 10^2 $ | $ 0.9805825242718447                $ |  $ 0.01941747572815533                          $ | $ 2                        $ |\n",
    "| $ 10^3 $ | $ 0.998005982053837                 $ |  $ 0.0019940179461630514                        $ | $ 3                        $ |\n",
    "| $ 10^4 $ | $ 0.9998000599820047                $ |  $ 0.0001999400179952815                        $ | $ 4                        $ |\n",
    "| $ 10^5 $ | $ 0.9999800005999645                $ |  $ 0.000019999400035497494                      $ | $ 5                        $ |\n"
   ]
  },
  {
   "cell_type": "code",
   "execution_count": 1,
   "metadata": {},
   "outputs": [],
   "source": [
    "def a(n):\n",
    "    return 2 / (n**2 + 5 * n + 6)"
   ]
  },
  {
   "cell_type": "code",
   "execution_count": 2,
   "metadata": {},
   "outputs": [],
   "source": [
    "def S(N):\n",
    "    s = 0\n",
    "    for n in range(N + 1):\n",
    "        s += a(n)\n",
    "    return s"
   ]
  },
  {
   "cell_type": "code",
   "execution_count": 64,
   "metadata": {},
   "outputs": [
    {
     "name": "stdout",
     "output_type": "stream",
     "text": [
      "S(10) = 0.846153846153846,\t|S(N) - S| = 0.15384615384615397\n",
      "S(100) = 0.9805825242718447,\t|S(N) - S| = 0.01941747572815533\n",
      "S(1000) = 0.998005982053837,\t|S(N) - S| = 0.0019940179461630514\n",
      "S(10000) = 0.9998000599820047,\t|S(N) - S| = 0.0001999400179952815\n",
      "S(100000) = 0.9999800005999645,\t|S(N) - S| = 1.9999400035497494e-05\n"
     ]
    }
   ],
   "source": [
    "for N in [10, 10**2, 10**3, 10**4, 10**5]:\n",
    "    s = S(N)\n",
    "    print(f'S({N}) = {s},\\t|S(N) - S| = {abs(1 - s)}')"
   ]
  },
  {
   "cell_type": "code",
   "execution_count": 65,
   "metadata": {},
   "outputs": [],
   "source": [
    "import matplotlib.pyplot as plt"
   ]
  },
  {
   "cell_type": "code",
   "execution_count": 78,
   "metadata": {},
   "outputs": [
    {
     "data": {
      "image/png": "[encoded data removed]",
      "text/plain": [
       "<Figure size 640x480 with 1 Axes>"
      ]
     },
     "metadata": {},
     "output_type": "display_data"
    }
   ],
   "source": [
    "plt.bar(['$ 10 $', '$ 10^2 $', '$ 10^3 $',\n",
    "        '$ 10^4 $', '$ 10^5 $'],\n",
    "        [1, 2, 3, 4, 5])\n",
    "plt.xlabel('Количетсво слагаемых частичной суммы ряда $ N $')\n",
    "plt.ylabel('Количество верных цифр $ M $')\n",
    "plt.show()"
   ]
  },
  {
   "cell_type": "markdown",
   "metadata": {},
   "source": [
    "Задача 1.2.1 \\\n",
    "Дана матрица\n",
    "$$\n",
    "A\n",
    " = \n",
    "\\begin{pmatrix}\n",
    "3 & 2 & 2 \\\\ \n",
    "33 & 28 & 24 \\\\\n",
    "360 & 320 & 270\n",
    "\\end{pmatrix}\n",
    "$$\n",
    "В каждый из диагональных элементов матрицы $ A $ по\n",
    "очереди внести погрешность в $ 1\\% $. Как изменился определитель матрицы $ A $? Указать количество верных цифр\n",
    "и вычислить величину относительной погрешности определителя в каждом случае."
   ]
  },
  {
   "cell_type": "markdown",
   "metadata": {},
   "source": [
    "$$\n",
    "\\det(A) = \n",
    "\\begin{vmatrix}\n",
    "    3 & 2 & 2 \\\\ \n",
    "    33 & 28 & 24 \\\\\n",
    "    360 & 320 & 270\n",
    "\\end{vmatrix}\n",
    " = \n",
    "3 \\cdot\n",
    "\\begin{vmatrix}\n",
    "    28 & 24 \\\\\n",
    "    320 & 270\n",
    "\\end{vmatrix}\n",
    "- 2 \\cdot \n",
    "\\begin{vmatrix}\n",
    "    33 & 24 \\\\\n",
    "    360 & 270\n",
    "\\end{vmatrix}\n",
    "+ 2 \\cdot \n",
    "\\begin{vmatrix}\n",
    "    33 & 28 \\\\\n",
    "    360 & 320\n",
    "\\end{vmatrix}\n",
    " = \n",
    "60\n",
    "$$\n",
    "\n",
    "$$\n",
    "A_1 = \n",
    "\\begin{pmatrix}\n",
    "    3 \\cdot (1 + \\delta) & 2 & 2 \\\\ \n",
    "    33 & 28 & 24 \\\\\n",
    "    360 & 320 & 270\n",
    "\\end{pmatrix}, \\\n",
    "\n",
    "det(A_1) = 60 - 360 \\delta, \\ \n",
    "| \\det(A) - \\det(A_1) |\n",
    " = \n",
    "360 | \\delta | \n",
    "$$\n",
    "\n",
    "$$ \\delta \\in [-0.01; +0.01] \\implies | \\det(A) - \\det(A_1) | \\in [-3.6; +3.6] \\implies \\delta_1 = \\frac{3.6}{60} = 0.06 = 6\\% $$\n",
    "\n",
    "$$\n",
    "A_2 = \n",
    "\\begin{pmatrix}\n",
    "    3 & 2 & 2 \\\\ \n",
    "    33 & 28 \\cdot (1 + \\delta) & 24 \\\\\n",
    "    360 & 320 & 270\n",
    "\\end{pmatrix}, \\\n",
    "\n",
    "det(A_2) = 60 + 2520 \\delta, \\ \n",
    "| \\det(A) - \\det(A_2) | = \n",
    "2520 | \\delta | \n",
    "$$\n",
    "\n",
    "$$ \\delta \\in [-0.01; +0.01] \\implies | \\det(A) - \\det(A_2) | \\in [-25.2; +25.2] \\implies \\delta_2 = \\frac{25.2}{60} = 0.42 = 42\\% $$\n",
    "\n",
    "$$\n",
    "A_3 = \n",
    "\\begin{pmatrix}\n",
    "    3 & 2 & 2 \\\\ \n",
    "    33 & 28 & 24 \\\\\n",
    "    360 & 320 & 270 \\cdot (1 + \\delta)\n",
    "\\end{pmatrix}, \\\n",
    "\n",
    "det(A_3) = 60 + 4860 \\delta, \\\n",
    "| \\det(A) - \\det(A_3) | = \n",
    "4860 | \\delta | \n",
    "$$\n",
    "\n",
    "$$ \\delta \\in [-0.01; +0.01] \\implies | \\det(A) - \\det(A_3) | \\in [-48.6; +48.6] \\implies \\delta_3 = \\frac{48.6}{60} = 0.81 = 81\\%  $$"
   ]
  },
  {
   "cell_type": "markdown",
   "metadata": {},
   "source": [
    "Задача 1.7\n",
    "Вычислить значения машинного нуля, машинной бесконечности, машинного эпсилон в режимах одинарной, двойной и расширенной точности на двух алгоритмических языках. Сравнить результаты."
   ]
  },
  {
   "cell_type": "markdown",
   "metadata": {},
   "source": [
    "**C++** \\\n",
    "*Одинарная точность*: \\\n",
    "Машинная бесконечность: $ X_{\\infty} \\approx 2^{128} $ \\\n",
    "Машинный нуль: $ X_0 \\approx 2^{-150} $ \\\n",
    "Машинное эпсилон: $ \\varepsilon_M \\approx 2^{-24} $\n",
    "\n",
    "*Двойная точность*: \\\n",
    "Машинная бесконечность: $ X_{\\infty} \\approx 2^{1024} $ \\\n",
    "Машинный нуль: $ X_0 \\approx 2^{-1075} $ \\\n",
    "Машинное эпсилон: $ \\varepsilon_M \\approx 2^{-53} $\n",
    "\n",
    "*Расширенная точность*: \\\n",
    "Машинная бесконечность: $ X_{\\infty} \\approx 2^{16384} $ \\\n",
    "Машинный нуль: $ X_0 \\approx 2^{-16446} $ \\\n",
    "Машинное эпсилон: $ \\varepsilon_M \\approx 2^{-64} $\n",
    "\n",
    "**Python** \\\n",
    "*Одинарная точность*: \\\n",
    "Машинная бесконечность: $ X_{\\infty} \\approx 2^{128} $ \\\n",
    "Машинный нуль: $ X_0 \\approx 2^{-150} $ \\\n",
    "Машинное эпсилон: $ \\varepsilon_M \\approx 2^{-24} $\n",
    "\n",
    "*Двойная точность*: \\\n",
    "Машинная бесконечность: $ X_{\\infty} \\approx 2^{1024} $ \\\n",
    "Машинный нуль: $ X_0 \\approx 2^{-1075} $ \\\n",
    "Машинное эпсилон: $ \\varepsilon_M \\approx 2^{-53} $\n",
    "\n",
    "*Расширенная точность*: \\\n",
    "Машинная бесконечность: $ X_{\\infty} \\approx 2^{1024} $ \\\n",
    "Машинный нуль: $ X_0 \\approx 2^{-1075} $ \\\n",
    "Машинное эпсилон: $ \\varepsilon_M \\approx 2^{-53} $"
   ]
  },
  {
   "cell_type": "markdown",
   "metadata": {},
   "source": [
    "В Python и C++ результаты совпадают везде, за исключением расширенной точности"
   ]
  },
  {
   "cell_type": "code",
   "execution_count": 1,
   "metadata": {},
   "outputs": [],
   "source": [
    "import numpy as np"
   ]
  },
  {
   "cell_type": "code",
   "execution_count": 44,
   "metadata": {},
   "outputs": [],
   "source": [
    "def single_infinity() -> np.float32:\n",
    "    k = 1\n",
    "    res: np.float32 = 2\n",
    "    try:\n",
    "        while (res == np.float32(res)):\n",
    "            k += 1\n",
    "            res *= 2\n",
    "    except:\n",
    "        return k\n",
    "    finally:\n",
    "        return k\n",
    "\n",
    "\n",
    "def double_infinity() -> np.double:\n",
    "    k = 1\n",
    "    res: np.double = 2\n",
    "    try:\n",
    "        while (res == np.double(res)):\n",
    "            k += 1\n",
    "            res *= 2\n",
    "    except:\n",
    "        return k\n",
    "    finally:\n",
    "        return k\n",
    "\n",
    "\n",
    "def long_double_infinity() -> np.longdouble:\n",
    "    k: int = 1\n",
    "    res: np.longdouble = 2\n",
    "    try:\n",
    "        while (res == np.double(res)):\n",
    "            k += 1\n",
    "            res *= 2\n",
    "    except:\n",
    "        return k\n",
    "    finally:\n",
    "        return k\n",
    "\n",
    "\n",
    "def single_zero() -> np.float32:\n",
    "    k: int = 0\n",
    "    res: np.float32 = 1\n",
    "    try:\n",
    "        while (np.float32(res) > np.float32(0.0)):\n",
    "            k += 1\n",
    "            res /= 2\n",
    "    except:\n",
    "        return k\n",
    "    finally:\n",
    "        return k\n",
    "\n",
    "\n",
    "def double_zero() -> np.double:\n",
    "    k: int = 0\n",
    "    res: np.double = 1\n",
    "    try:\n",
    "        while (np.double(res) > np.double(0.0)):\n",
    "            k += 1\n",
    "            res /= 2\n",
    "    except:\n",
    "        return k\n",
    "    finally:\n",
    "        return k\n",
    "\n",
    "\n",
    "def long_double_zero() -> np.longdouble:\n",
    "    k = int(0)\n",
    "    res = np.longdouble(1.0)\n",
    "\n",
    "    try:\n",
    "        while (np.longdouble(res) > np.longdouble(0.0)):\n",
    "            k += 1\n",
    "            res /= 2\n",
    "    except:\n",
    "        return k\n",
    "    finally:\n",
    "        return k\n",
    "\n",
    "\n",
    "def single_epsilon() -> np.float32:\n",
    "    k = int(0)\n",
    "    res = np.float32(1.0)\n",
    "\n",
    "    try:\n",
    "        while (np.float32(1 + res) > np.float32(1)):\n",
    "            k += 1\n",
    "            res /= 2\n",
    "    except:\n",
    "        return k\n",
    "    finally:\n",
    "        return k\n",
    "\n",
    "\n",
    "def double_epsilon() -> np.double:\n",
    "    k = int(0)\n",
    "    res = np.double(1.0)\n",
    "\n",
    "    try:\n",
    "        while (np.double(1 + res) > np.double(1)):\n",
    "            k += 1\n",
    "            res /= 2\n",
    "    except:\n",
    "        return k\n",
    "    finally:\n",
    "        return k\n",
    "\n",
    "\n",
    "def long_double_epsilon() -> np.longdouble:\n",
    "    k = int(0)\n",
    "    res = np.longdouble(1.0)\n",
    "\n",
    "    try:\n",
    "        while (np.longdouble(1 + res) > np.longdouble(1)):\n",
    "            k += 1\n",
    "            res /= 2\n",
    "    except:\n",
    "        return k\n",
    "    finally:\n",
    "        return k"
   ]
  },
  {
   "cell_type": "code",
   "execution_count": 45,
   "metadata": {},
   "outputs": [
    {
     "name": "stdout",
     "output_type": "stream",
     "text": [
      "128\n",
      "1024\n",
      "1024\n",
      "150\n",
      "1075\n",
      "1075\n",
      "24\n",
      "53\n",
      "53\n"
     ]
    }
   ],
   "source": [
    "print(single_infinity())\n",
    "print(double_infinity())\n",
    "print(long_double_infinity())\n",
    "\n",
    "print(single_zero())\n",
    "print(double_zero())\n",
    "print(long_double_zero())\n",
    "\n",
    "print(single_epsilon())\n",
    "print(double_epsilon())\n",
    "print(long_double_epsilon())"
   ]
  },
  {
   "cell_type": "markdown",
   "metadata": {},
   "source": [
    "Задача 1.10.1 \\\n",
    "Три вектора $ \\overrightarrow{a_1}, \\ \\overrightarrow{a_2}, \\ \\overrightarrow{a_3} $ заданы своими координатами в базисе $ \\overrightarrow{i}, \\ \\overrightarrow{j}, \\ \\overrightarrow{k} $. Что можно сказать о компланарности этих векторов, если:"
   ]
  },
  {
   "cell_type": "markdown",
   "metadata": {},
   "source": [
    "1. координаты векторов заданы точно:\n",
    "$$\n",
    "\\overrightarrow{a_1} = \n",
    "\\begin{pmatrix}\n",
    "10 \\\\ 15 \\\\ 1\n",
    "\\end{pmatrix},\n",
    "\\\n",
    "\\overrightarrow{a_2} = \n",
    "\\begin{pmatrix}\n",
    "0.7 \\\\ 5.7 \\\\ -9\n",
    "\\end{pmatrix},\n",
    "\\\n",
    "\\overrightarrow{a_3} = \n",
    "\\begin{pmatrix}\n",
    "11 \\\\ 16 \\\\ 2\n",
    "\\end{pmatrix}\n",
    "$$\n",
    "\n",
    "$$\n",
    "\\begin{vmatrix}\n",
    "\\overrightarrow{a_1} & \\overrightarrow{a_2} & \\overrightarrow{a_3}\n",
    "\\end{vmatrix}\n",
    " = \n",
    "\\begin{vmatrix}\n",
    "10 & 0.7 & 11 \\\\\n",
    "15 & 5.7 & 16 \\\\\n",
    "1 & -9 & 2\n",
    "\\end{vmatrix}\n",
    " = \n",
    "-3.5 \\neq 0 \\implies векторы \\ не \\ компланарны\n",
    "$$"
   ]
  },
  {
   "cell_type": "markdown",
   "metadata": {},
   "source": [
    "2. координаты векторов заданы приближённо с относительной погрешностью а) $ \\delta = \\alpha \\% $; б) $ \\delta = \\beta \\% $\n"
   ]
  },
  {
   "cell_type": "code",
   "execution_count": 3,
   "metadata": {},
   "outputs": [],
   "source": [
    "import numpy as np"
   ]
  },
  {
   "cell_type": "code",
   "execution_count": 46,
   "metadata": {},
   "outputs": [],
   "source": [
    "A = np.array([[10, 0.7, 11],\n",
    "              [15, 5.7, 16],\n",
    "              [1, -9, 2]])\n",
    "\n",
    "alpha = 0.05\n",
    "beta = 0.1"
   ]
  },
  {
   "cell_type": "code",
   "execution_count": 47,
   "metadata": {},
   "outputs": [],
   "source": [
    "def minmax(A, delta):\n",
    "    m = None\n",
    "    M = None\n",
    "\n",
    "    for n in range(10000):\n",
    "        B = 1 + (np.random.rand(3, 3) - .5) * 2 * delta\n",
    "        C = A * B\n",
    "        det = np.linalg.det(C)\n",
    "        if not m or m > det:\n",
    "            m = det\n",
    "\n",
    "        if not M or M < det:\n",
    "            M = det\n",
    "\n",
    "    return (m, M)"
   ]
  },
  {
   "cell_type": "code",
   "execution_count": 44,
   "metadata": {},
   "outputs": [
    {
     "data": {
      "text/plain": [
       "(-283.98471186485176, 260.9559050553902)"
      ]
     },
     "execution_count": 44,
     "metadata": {},
     "output_type": "execute_result"
    }
   ],
   "source": [
    "minmax(A, alpha)"
   ]
  },
  {
   "cell_type": "code",
   "execution_count": 45,
   "metadata": {},
   "outputs": [
    {
     "data": {
      "text/plain": [
       "(-543.2237055422972, 585.9287300316713)"
      ]
     },
     "execution_count": 45,
     "metadata": {},
     "output_type": "execute_result"
    }
   ],
   "source": [
    "minmax(A, beta)"
   ]
  },
  {
   "cell_type": "markdown",
   "metadata": {},
   "source": [
    "Значение определителя матрицы принимает и положительные, и отрицательные значения $ \\implies $ определитель обращается в нуль $ \\implies $ векторы могут быть компланарны."
   ]
  }
 ],
 "metadata": {
  "kernelspec": {
   "display_name": "Python 3",
   "language": "python",
   "name": "python3"
  },
  "language_info": {
   "codemirror_mode": {
    "name": "ipython",
    "version": 3
   },
   "file_extension": ".py",
   "mimetype": "text/x-python",
   "name": "python",
   "nbconvert_exporter": "python",
   "pygments_lexer": "ipython3",
   "version": "3.11.3"
  }
 },
 "nbformat": 4,
 "nbformat_minor": 2
}
